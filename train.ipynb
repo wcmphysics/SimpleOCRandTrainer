{
 "cells": [
  {
   "cell_type": "code",
   "execution_count": 1,
   "metadata": {},
   "outputs": [
    {
     "name": "stderr",
     "output_type": "stream",
     "text": [
      "c:\\Users\\Marsspi\\AppData\\Local\\Programs\\Python\\Python37\\lib\\importlib\\_bootstrap.py:219: RuntimeWarning: numpy.ufunc size changed, may indicate binary incompatibility. Expected 192 from C header, got 216 from PyObject\n",
      "  return f(*args, **kwds)\n"
     ]
    }
   ],
   "source": [
    "import numpy as np\n",
    "import matplotlib.pyplot as plt\n",
    "\n",
    "from sklearn import datasets\n",
    "from sklearn.linear_model import LogisticRegression\n",
    "from sklearn.naive_bayes import GaussianNB\n",
    "from sklearn.svm import SVC\n",
    "from sklearn.model_selection import train_test_split\n",
    "from sklearn.metrics import confusion_matrix, ConfusionMatrixDisplay, classification_report\n",
    "from sklearn.preprocessing import MinMaxScaler, StandardScaler\n"
   ]
  },
  {
   "cell_type": "markdown",
   "metadata": {},
   "source": [
    "Read images and labels and reshape the numpy array for feeding sklearn"
   ]
  },
  {
   "cell_type": "code",
   "execution_count": 2,
   "metadata": {},
   "outputs": [
    {
     "name": "stdout",
     "output_type": "stream",
     "text": [
      "(1797, 8, 8)\n",
      "(1797, 64)\n"
     ]
    }
   ],
   "source": [
    "digits = datasets.load_digits()\n",
    "print(digits.images.shape)\n",
    "data = digits.images.reshape((len(digits.images), -1))\n",
    "label = digits.target\n",
    "print(data.shape)"
   ]
  },
  {
   "cell_type": "markdown",
   "metadata": {},
   "source": [
    "Split into test and train data, and scale them"
   ]
  },
  {
   "cell_type": "code",
   "execution_count": 3,
   "metadata": {},
   "outputs": [],
   "source": [
    "seed = 19\n",
    "X_train, X_test, y_train, y_test = train_test_split(data, label, test_size=0.5, random_state=seed)\n",
    "\n",
    "scaler = MinMaxScaler()\n",
    "scaler.fit(X_train)\n",
    "X_train = scaler.transform(X_train)\n",
    "X_test = scaler.transform(X_test)"
   ]
  },
  {
   "cell_type": "code",
   "execution_count": 23,
   "metadata": {},
   "outputs": [],
   "source": [
    "def ShowResult(y_train, y_test, y_pred_train, y_pred_test):    \n",
    "    print('Error rate (train):', ((y_pred_train != y_train).sum()/len(y_train)*100).round(4), '%')\n",
    "    print('Error rate (test):', ((y_pred_test != y_test).sum()/len(y_test)*100).round(4), '%')\n",
    "    #print(classification_report(y_train, y_pred_train))\n",
    "    print(classification_report(y_test, y_pred_test))\n",
    "    #ConfusionMatrixDisplay.from_predictions(y_train, y_pred_train)\n",
    "    ConfusionMatrixDisplay.from_predictions(y_test, y_pred_test)"
   ]
  },
  {
   "cell_type": "markdown",
   "metadata": {},
   "source": [
    "Naive Bayes"
   ]
  },
  {
   "cell_type": "code",
   "execution_count": 24,
   "metadata": {},
   "outputs": [
    {
     "name": "stdout",
     "output_type": "stream",
     "text": [
      "Error rate (train): 10.3563 %\n",
      "Error rate (test): 14.9055 %\n",
      "              precision    recall  f1-score   support\n",
      "\n",
      "           0       0.99      0.99      0.99        76\n",
      "           1       0.78      0.74      0.76        85\n",
      "           2       0.87      0.87      0.87        98\n",
      "           3       0.79      0.84      0.81        92\n",
      "           4       0.95      0.85      0.90        96\n",
      "           5       0.88      0.91      0.89        92\n",
      "           6       0.93      0.92      0.93        88\n",
      "           7       0.74      0.99      0.85        91\n",
      "           8       0.72      0.76      0.74        82\n",
      "           9       0.93      0.67      0.78        99\n",
      "\n",
      "    accuracy                           0.85       899\n",
      "   macro avg       0.86      0.85      0.85       899\n",
      "weighted avg       0.86      0.85      0.85       899\n",
      "\n"
     ]
    },
    {
     "data": {
      "image/png": "[encoded data removed]",
      "text/plain": [
       "<Figure size 432x288 with 2 Axes>"
      ]
     },
     "metadata": {
      "needs_background": "light"
     },
     "output_type": "display_data"
    }
   ],
   "source": [
    "clf_nb = GaussianNB()\n",
    "clf_nb.fit(X_train, y_train)\n",
    "\n",
    "y_pred_train = clf_nb.predict(X_train)\n",
    "y_pred_test = clf_nb.predict(X_test)\n",
    "\n",
    "ShowResult(y_train, y_test, y_pred_train, y_pred_test)"
   ]
  },
  {
   "cell_type": "markdown",
   "metadata": {},
   "source": [
    "Logistic regression"
   ]
  },
  {
   "cell_type": "code",
   "execution_count": 25,
   "metadata": {},
   "outputs": [
    {
     "name": "stderr",
     "output_type": "stream",
     "text": [
      "c:\\Users\\Marsspi\\AppData\\Local\\Programs\\Python\\Python37\\lib\\site-packages\\sklearn\\linear_model\\_logistic.py:818: ConvergenceWarning: lbfgs failed to converge (status=1):\n",
      "STOP: TOTAL NO. of ITERATIONS REACHED LIMIT.\n",
      "\n",
      "Increase the number of iterations (max_iter) or scale the data as shown in:\n",
      "    https://scikit-learn.org/stable/modules/preprocessing.html\n",
      "Please also refer to the documentation for alternative solver options:\n",
      "    https://scikit-learn.org/stable/modules/linear_model.html#logistic-regression\n",
      "  extra_warning_msg=_LOGISTIC_SOLVER_CONVERGENCE_MSG,\n"
     ]
    },
    {
     "name": "stdout",
     "output_type": "stream",
     "text": [
      "Error rate (train): 0.6682 %\n",
      "Error rate (test): 5.228 %\n",
      "              precision    recall  f1-score   support\n",
      "\n",
      "           0       0.99      0.99      0.99        76\n",
      "           1       0.87      0.94      0.90        85\n",
      "           2       0.98      0.96      0.97        98\n",
      "           3       0.99      0.88      0.93        92\n",
      "           4       0.97      0.96      0.96        96\n",
      "           5       0.94      0.99      0.96        92\n",
      "           6       1.00      0.94      0.97        88\n",
      "           7       0.95      0.96      0.95        91\n",
      "           8       0.85      0.93      0.89        82\n",
      "           9       0.96      0.94      0.95        99\n",
      "\n",
      "    accuracy                           0.95       899\n",
      "   macro avg       0.95      0.95      0.95       899\n",
      "weighted avg       0.95      0.95      0.95       899\n",
      "\n"
     ]
    },
    {
     "data": {
      "image/png": "[encoded data removed]",
      "text/plain": [
       "<Figure size 432x288 with 2 Axes>"
      ]
     },
     "metadata": {
      "needs_background": "light"
     },
     "output_type": "display_data"
    }
   ],
   "source": [
    "clf_lg = LogisticRegression(max_iter=100)\n",
    "clf_lg.fit(X_train, y_train)\n",
    "\n",
    "y_pred_train = clf_lg.predict(X_train)\n",
    "y_pred_test = clf_lg.predict(X_test)\n",
    "\n",
    "ShowResult(y_train, y_test, y_pred_train, y_pred_test)"
   ]
  },
  {
   "cell_type": "markdown",
   "metadata": {},
   "source": [
    "Support vector machine"
   ]
  },
  {
   "cell_type": "code",
   "execution_count": 26,
   "metadata": {},
   "outputs": [
    {
     "name": "stdout",
     "output_type": "stream",
     "text": [
      "Error rate (train): 0.3341 %\n",
      "Error rate (test): 2.3359 %\n",
      "              precision    recall  f1-score   support\n",
      "\n",
      "           0       1.00      0.99      0.99        76\n",
      "           1       0.94      1.00      0.97        85\n",
      "           2       1.00      0.99      0.99        98\n",
      "           3       0.99      0.96      0.97        92\n",
      "           4       0.99      0.98      0.98        96\n",
      "           5       0.95      0.99      0.97        92\n",
      "           6       1.00      0.97      0.98        88\n",
      "           7       0.99      0.99      0.99        91\n",
      "           8       0.93      0.96      0.95        82\n",
      "           9       0.98      0.95      0.96        99\n",
      "\n",
      "    accuracy                           0.98       899\n",
      "   macro avg       0.98      0.98      0.98       899\n",
      "weighted avg       0.98      0.98      0.98       899\n",
      "\n"
     ]
    },
    {
     "data": {
      "image/png": "[encoded data removed]",
      "text/plain": [
       "<Figure size 432x288 with 2 Axes>"
      ]
     },
     "metadata": {
      "needs_background": "light"
     },
     "output_type": "display_data"
    }
   ],
   "source": [
    "clf_svm = SVC()\n",
    "clf_svm.fit(X_train, y_train)\n",
    "\n",
    "y_pred_train = clf_svm.predict(X_train)\n",
    "y_pred_test = clf_svm.predict(X_test)\n",
    "\n",
    "ShowResult(y_train, y_test, y_pred_train, y_pred_test)"
   ]
  }
 ],
 "metadata": {
  "kernelspec": {
   "display_name": "Python 3.7.9 64-bit",
   "language": "python",
   "name": "python3"
  },
  "language_info": {
   "codemirror_mode": {
    "name": "ipython",
    "version": 3
   },
   "file_extension": ".py",
   "mimetype": "text/x-python",
   "name": "python",
   "nbconvert_exporter": "python",
   "pygments_lexer": "ipython3",
   "version": "3.7.9"
  },
  "orig_nbformat": 4,
  "vscode": {
   "interpreter": {
    "hash": "2637a4237c9832f1722b2cd300ef9b76dbc03b8bb4d86f4166da260fe841abb3"
   }
  }
 },
 "nbformat": 4,
 "nbformat_minor": 2
}
